{
 "cells": [
  {
   "cell_type": "markdown",
   "metadata": {},
   "source": [
    "## Import modules"
   ]
  },
  {
   "cell_type": "code",
   "execution_count": 22,
   "metadata": {},
   "outputs": [
    {
     "data": {
      "text/plain": [
       "<module 'nhanes' from '/Users/qiwenlyu/Development/health/Health-Analytics-Opportunistic/nhanes.py'>"
      ]
     },
     "execution_count": 22,
     "metadata": {},
     "output_type": "execute_result"
    }
   ],
   "source": [
    "import pdb\n",
    "import glob\n",
    "\n",
    "import numpy as np\n",
    "import pandas as pd\n",
    "import matplotlib.pyplot as plt\n",
    "from sklearn.ensemble import RandomForestClassifier\n",
    "from sklearn.svm import SVC\n",
    "from sklearn.linear_model import LogisticRegression\n",
    "from sklearn.metrics import classification_report\n",
    "from sklearn.feature_selection import mutual_info_classif\n",
    "import nhanes as nhanes\n",
    "\n",
    "%matplotlib notebook\n",
    "\n",
    "import importlib\n",
    "importlib.reload(nhanes)"
   ]
  },
  {
   "cell_type": "markdown",
   "metadata": {},
   "source": [
    "## Settings"
   ]
  },
  {
   "cell_type": "code",
   "execution_count": 2,
   "metadata": {},
   "outputs": [],
   "source": [
    "DATA_PATH = '/Users/qiwenlyu/Development/health/NHANES/'\n",
    "DATASET = 'arthritis'"
   ]
  },
  {
   "cell_type": "markdown",
   "metadata": {},
   "source": [
    "### Note: \n",
    "The code below loads each dataset: dataset_features, dataset_targets\n",
    "\n",
    "Here, all datasets are defined explicitly (see nhanes.py)."
   ]
  },
  {
   "cell_type": "code",
   "execution_count": 36,
   "metadata": {},
   "outputs": [
    {
     "name": "stdout",
     "output_type": "stream",
     "text": [
      "[<nhanes.FeatureColumn object at 0x1a25d02a20>, <nhanes.FeatureColumn object at 0x1a25e23b38>, <nhanes.FeatureColumn object at 0x1a25e23898>, <nhanes.FeatureColumn object at 0x1a25b23860>, <nhanes.FeatureColumn object at 0x1a25b01f60>, <nhanes.FeatureColumn object at 0x1a27ddc0b8>, <nhanes.FeatureColumn object at 0x1a27ddc1d0>, <nhanes.FeatureColumn object at 0x1a27ddc080>, <nhanes.FeatureColumn object at 0x1a27dc14e0>, <nhanes.FeatureColumn object at 0x1a27dc1b38>, <nhanes.FeatureColumn object at 0x1a27dc1c18>, <nhanes.FeatureColumn object at 0x1a27dc1fd0>, <nhanes.FeatureColumn object at 0x1a27dc1438>, <nhanes.FeatureColumn object at 0x1a27dc19b0>, <nhanes.FeatureColumn object at 0x1a27dc1c50>, <nhanes.FeatureColumn object at 0x1a27dc1518>, <nhanes.FeatureColumn object at 0x1a27dc1a90>, <nhanes.FeatureColumn object at 0x1a27dc1e80>, <nhanes.FeatureColumn object at 0x1a27dc17b8>, <nhanes.FeatureColumn object at 0x1a27dc15f8>, <nhanes.FeatureColumn object at 0x1a27dc12e8>, <nhanes.FeatureColumn object at 0x1a27dc1e48>, <nhanes.FeatureColumn object at 0x1a266aae10>, <nhanes.FeatureColumn object at 0x1a266aa860>, <nhanes.FeatureColumn object at 0x1a266aa470>, <nhanes.FeatureColumn object at 0x1a266aa240>, <nhanes.FeatureColumn object at 0x1a266aa630>, <nhanes.FeatureColumn object at 0x1a266aad68>, <nhanes.FeatureColumn object at 0x1a266aa208>, <nhanes.FeatureColumn object at 0x1a266aa5c0>, <nhanes.FeatureColumn object at 0x1a266aa908>, <nhanes.FeatureColumn object at 0x1a269dc588>, <nhanes.FeatureColumn object at 0x1a269dc160>, <nhanes.FeatureColumn object at 0x1a269dcfd0>, <nhanes.FeatureColumn object at 0x1a269dcf28>, <nhanes.FeatureColumn object at 0x1a269dc390>, <nhanes.FeatureColumn object at 0x1a269dcb38>, <nhanes.FeatureColumn object at 0x1a269dc3c8>, <nhanes.FeatureColumn object at 0x1a269dc908>, <nhanes.FeatureColumn object at 0x1a269dc2e8>, <nhanes.FeatureColumn object at 0x1a269dca58>, <nhanes.FeatureColumn object at 0x1a269dc7b8>, <nhanes.FeatureColumn object at 0x1a269dcc50>, <nhanes.FeatureColumn object at 0x1a269dc0f0>, <nhanes.FeatureColumn object at 0x1a269dc198>, <nhanes.FeatureColumn object at 0x1a269dca20>, <nhanes.FeatureColumn object at 0x1a269dc0b8>, <nhanes.FeatureColumn object at 0x1a269dc358>, <nhanes.FeatureColumn object at 0x1a269dcdd8>, <nhanes.FeatureColumn object at 0x1a269dc978>, <nhanes.FeatureColumn object at 0x1a269dcb70>, <nhanes.FeatureColumn object at 0x1a269dc9e8>, <nhanes.FeatureColumn object at 0x1a269dcf98>, <nhanes.FeatureColumn object at 0x1a269dcda0>, <nhanes.FeatureColumn object at 0x1a269dcd68>, <nhanes.FeatureColumn object at 0x1a269dce80>, <nhanes.FeatureColumn object at 0x1a269dc080>, <nhanes.FeatureColumn object at 0x1a269dcbe0>, <nhanes.FeatureColumn object at 0x1a269dc1d0>, <nhanes.FeatureColumn object at 0x1a269dc6d8>, <nhanes.FeatureColumn object at 0x1a269dcac8>, <nhanes.FeatureColumn object at 0x1a269dc898>, <nhanes.FeatureColumn object at 0x1a269dc940>, <nhanes.FeatureColumn object at 0x1a269dc240>, <nhanes.FeatureColumn object at 0x1a269dc048>, <nhanes.FeatureColumn object at 0x1a269dcf60>, <nhanes.FeatureColumn object at 0x1a269dc4e0>, <nhanes.FeatureColumn object at 0x1a269dc668>, <nhanes.FeatureColumn object at 0x1a269dc2b0>, <nhanes.FeatureColumn object at 0x1a26c78ef0>, <nhanes.FeatureColumn object at 0x1a26c78eb8>, <nhanes.FeatureColumn object at 0x1a26c78b70>, <nhanes.FeatureColumn object at 0x1a26c786a0>, <nhanes.FeatureColumn object at 0x1a26c78908>, <nhanes.FeatureColumn object at 0x1a26c78470>, <nhanes.FeatureColumn object at 0x1a26c78358>, <nhanes.FeatureColumn object at 0x1a26c78438>, <nhanes.FeatureColumn object at 0x1a25b37eb8>, <nhanes.FeatureColumn object at 0x1a25b37518>, <nhanes.FeatureColumn object at 0x1a25b37e80>, <nhanes.FeatureColumn object at 0x1a25b372b0>, <nhanes.FeatureColumn object at 0x1a25b370b8>, <nhanes.FeatureColumn object at 0x1a25b37ac8>, <nhanes.FeatureColumn object at 0x1a262b6390>, <nhanes.FeatureColumn object at 0x1a262b60b8>, <nhanes.FeatureColumn object at 0x1a262b6860>, <nhanes.FeatureColumn object at 0x1a262b67f0>, <nhanes.FeatureColumn object at 0x1a262b6240>, <nhanes.FeatureColumn object at 0x1a262b6ac8>, <nhanes.FeatureColumn object at 0x1a262b64e0>, <nhanes.FeatureColumn object at 0x1a262b6898>, <nhanes.FeatureColumn object at 0x1a262b6da0>, <nhanes.FeatureColumn object at 0x1a262b6cc0>, <nhanes.FeatureColumn object at 0x1a262b6b00>, <nhanes.FeatureColumn object at 0x1a262b6908>, <nhanes.FeatureColumn object at 0x1a262b62b0>, <nhanes.FeatureColumn object at 0x1a262b6470>, <nhanes.FeatureColumn object at 0x1a262b6b38>, <nhanes.FeatureColumn object at 0x1a262b6e80>]\n",
      "Processing: BPQ_I.XPT                                                                                                                                                                                                                                                                                                                                                                                                                                                                                                                                                                                                                                                                                                                                                                                                                                                                                                                                                                                                                                                                                                                                                                            RIDAGEYR  RIDRETH3  DMQMILIZ#1.0  DMQMILIZ#2.0  DMQADFC#1.0  \\\n",
      "SEQN                                                                   \n",
      "83732.0  1.215261 -0.126886             0             1            0   \n",
      "83733.0  0.851901 -0.126886             0             1            0   \n",
      "83734.0  1.861234 -0.126886             1             0            0   \n",
      "83735.0  0.973021 -0.126886             0             1            0   \n",
      "83736.0  0.407794  0.468492             0             1            0   \n",
      "83737.0  1.618994 -1.317641             0             1            0   \n",
      "83738.0 -0.843779 -1.317641             0             0            0   \n",
      "83739.0 -1.126392 -0.126886             0             0            0   \n",
      "83740.0 -1.247512 -0.722264             0             0            0   \n",
      "83741.0 -0.399672  0.468492             0             1            0   \n",
      "83742.0  0.004061 -1.317641             0             1            0   \n",
      "83743.0 -0.561165  1.659248             0             1            0   \n",
      "83744.0  0.973021  0.468492             0             1            0   \n",
      "83745.0 -0.682285 -0.126886             0             0            0   \n",
      "83746.0 -1.126392  1.659248             0             0            0   \n",
      "83747.0  0.569288 -0.126886             0             1            0   \n",
      "83748.0 -1.166765  0.468492             0             0            0   \n",
      "83749.0 -0.601539 -0.126886             0             1            0   \n",
      "83750.0  0.528914  2.254625             0             1            0   \n",
      "83751.0 -0.641912 -1.317641             0             0            0   \n",
      "83752.0 -0.076685 -0.722264             0             1            0   \n",
      "83753.0 -0.682285  0.468492             0             0            0   \n",
      "83754.0  1.417128 -0.722264             0             1            0   \n",
      "83755.0  1.417128  0.468492             1             0            1   \n",
      "83756.0 -0.641912 -0.126886             0             0            0   \n",
      "83757.0  1.013394 -0.722264             0             1            0   \n",
      "83758.0  1.941981 -0.126886             1             0            1   \n",
      "83759.0 -0.520792 -1.317641             0             1            0   \n",
      "83760.0 -1.166765  0.468492             0             0            0   \n",
      "83761.0 -0.318925  1.659248             0             1            0   \n",
      "...           ...       ...           ...           ...          ...   \n",
      "93673.0 -1.086019  0.468492             0             0            0   \n",
      "93674.0 -0.964899 -0.126886             0             0            0   \n",
      "93675.0  0.246301  1.659248             0             1            0   \n",
      "93676.0  0.125181  0.468492             0             1            0   \n",
      "93677.0  0.084808 -0.126886             0             1            0   \n",
      "93678.0 -1.247512 -0.126886             0             0            0   \n",
      "93679.0  1.618994  0.468492             0             1            0   \n",
      "93680.0 -0.601539  0.468492             0             1            0   \n",
      "93681.0 -1.086019  0.468492             0             0            0   \n",
      "93682.0  0.367421  1.659248             0             1            0   \n",
      "93683.0 -1.166765 -1.317641             0             0            0   \n",
      "93684.0  0.084808  0.468492             0             1            0   \n",
      "93685.0  0.851901 -1.317641             0             1            0   \n",
      "93686.0 -0.763032 -0.126886             0             0            0   \n",
      "93687.0 -0.641912 -0.722264             0             0            0   \n",
      "93688.0 -1.247512 -0.126886             0             0            0   \n",
      "93689.0  1.497874 -1.317641             0             1            0   \n",
      "93690.0  0.004061 -0.722264             0             1            0   \n",
      "93691.0 -0.278552  1.659248             0             1            0   \n",
      "93692.0 -1.247512  1.659248             0             0            0   \n",
      "93693.0 -1.005272  2.254625             0             0            0   \n",
      "93694.0 -1.005272 -1.317641             0             0            0   \n",
      "93695.0  1.780488 -0.126886             0             1            0   \n",
      "93696.0 -0.238179 -0.126886             0             1            0   \n",
      "93697.0  1.941981 -0.126886             1             0            0   \n",
      "93698.0 -1.207139 -1.317641             0             0            0   \n",
      "93699.0 -1.045645  0.468492             0             0            0   \n",
      "93700.0  0.125181 -0.126886             0             1            0   \n",
      "93701.0 -0.964899 -0.126886             0             0            0   \n",
      "93702.0 -0.318925 -0.126886             0             1            0   \n",
      "\n",
      "         DMQADFC#2.0  DMQADFC#7.0  DMDBORN4#1.0  DMDBORN4#2.0  DMDBORN4#99.0  \\\n",
      "SEQN                                                                           \n",
      "83732.0            0            0             1             0              0   \n",
      "83733.0            0            0             0             1              0   \n",
      "83734.0            1            0             1             0              0   \n",
      "83735.0            0            0             1             0              0   \n",
      "83736.0            0            0             1             0              0   \n",
      "83737.0            0            0             0             1              0   \n",
      "83738.0            0            0             1             0              0   \n",
      "83739.0            0            0             1             0              0   \n",
      "83740.0            0            0             1             0              0   \n",
      "83741.0            0            0             1             0              0   \n",
      "83742.0            0            0             0             1              0   \n",
      "83743.0            0            0             1             0              0   \n",
      "83744.0            0            0             1             0              0   \n",
      "83745.0            0            0             1             0              0   \n",
      "83746.0            0            0             0             1              0   \n",
      "83747.0            0            0             0             1              0   \n",
      "83748.0            0            0             1             0              0   \n",
      "83749.0            0            0             1             0              0   \n",
      "83750.0            0            0             1             0              0   \n",
      "83751.0            0            0             1             0              0   \n",
      "83752.0            0            0             1             0              0   \n",
      "83753.0            0            0             1             0              0   \n",
      "83754.0            0            0             1             0              0   \n",
      "83755.0            0            0             1             0              0   \n",
      "83756.0            0            0             1             0              0   \n",
      "83757.0            0            0             1             0              0   \n",
      "83758.0            0            0             1             0              0   \n",
      "83759.0            0            0             1             0              0   \n",
      "83760.0            0            0             1             0              0   \n",
      "83761.0            0            0             0             1              0   \n",
      "...              ...          ...           ...           ...            ...   \n",
      "93673.0            0            0             1             0              0   \n",
      "93674.0            0            0             1             0              0   \n",
      "93675.0            0            0             0             1              0   \n",
      "93676.0            0            0             1             0              0   \n",
      "93677.0            0            0             1             0              0   \n",
      "93678.0            0            0             1             0              0   \n",
      "93679.0            0            0             1             0              0   \n",
      "93680.0            0            0             1             0              0   \n",
      "93681.0            0            0             1             0              0   \n",
      "93682.0            0            0             0             1              0   \n",
      "93683.0            0            0             1             0              0   \n",
      "93684.0            0            0             1             0              0   \n",
      "93685.0            0            0             0             1              0   \n",
      "93686.0            0            0             1             0              0   \n",
      "93687.0            0            0             1             0              0   \n",
      "93688.0            0            0             1             0              0   \n",
      "93689.0            0            0             1             0              0   \n",
      "93690.0            0            0             1             0              0   \n",
      "93691.0            0            0             0             1              0   \n",
      "93692.0            0            0             1             0              0   \n",
      "93693.0            0            0             1             0              0   \n",
      "93694.0            0            0             1             0              0   \n",
      "93695.0            0            0             1             0              0   \n",
      "93696.0            0            0             1             0              0   \n",
      "93697.0            1            0             1             0              0   \n",
      "93698.0            0            0             1             0              0   \n",
      "93699.0            0            0             1             0              0   \n",
      "93700.0            0            0             0             1              0   \n",
      "93701.0            0            0             1             0              0   \n",
      "93702.0            0            0             1             0              0   \n",
      "\n",
      "         ...  DIQ170#9.0  DIQ172#1.0  DIQ172#2.0  DIQ172#7.0  DIQ172#9.0  \\\n",
      "SEQN     ...                                                               \n",
      "83732.0  ...           0           0           0           0           0   \n",
      "83733.0  ...           0           0           1           0           0   \n",
      "83734.0  ...           0           0           0           0           0   \n",
      "83735.0  ...           0           0           1           0           0   \n",
      "83736.0  ...           0           1           0           0           0   \n",
      "83737.0  ...           0           0           1           0           0   \n",
      "83738.0  ...           0           0           0           0           0   \n",
      "83739.0  ...           0           0           0           0           0   \n",
      "83740.0  ...           0           0           0           0           0   \n",
      "83741.0  ...           0           1           0           0           0   \n",
      "83742.0  ...           0           1           0           0           0   \n",
      "83743.0  ...           0           0           1           0           0   \n",
      "83744.0  ...           0           0           0           0           0   \n",
      "83745.0  ...           0           0           1           0           0   \n",
      "83746.0  ...           0           0           0           0           0   \n",
      "83747.0  ...           0           1           0           0           0   \n",
      "83748.0  ...           0           0           0           0           0   \n",
      "83749.0  ...           0           0           1           0           0   \n",
      "83750.0  ...           0           0           1           0           0   \n",
      "83751.0  ...           0           0           1           0           0   \n",
      "83752.0  ...           0           0           1           0           0   \n",
      "83753.0  ...           0           0           1           0           0   \n",
      "83754.0  ...           0           1           0           0           0   \n",
      "83755.0  ...           0           0           0           0           0   \n",
      "83756.0  ...           0           0           1           0           0   \n",
      "83757.0  ...           0           0           0           0           0   \n",
      "83758.0  ...           0           1           0           0           0   \n",
      "83759.0  ...           0           1           0           0           0   \n",
      "83760.0  ...           0           0           0           0           0   \n",
      "83761.0  ...           0           0           1           0           0   \n",
      "...      ...         ...         ...         ...         ...         ...   \n",
      "93673.0  ...           0           0           0           0           0   \n",
      "93674.0  ...           0           0           0           0           0   \n",
      "93675.0  ...           0           1           0           0           0   \n",
      "93676.0  ...           0           0           1           0           0   \n",
      "93677.0  ...           0           0           1           0           0   \n",
      "93678.0  ...           0           0           0           0           0   \n",
      "93679.0  ...           0           0           1           0           0   \n",
      "93680.0  ...           0           0           1           0           0   \n",
      "93681.0  ...           0           0           0           0           0   \n",
      "93682.0  ...           0           0           1           0           0   \n",
      "93683.0  ...           0           0           0           0           0   \n",
      "93684.0  ...           0           1           0           0           0   \n",
      "93685.0  ...           0           0           0           0           0   \n",
      "93686.0  ...           0           0           1           0           0   \n",
      "93687.0  ...           0           1           0           0           0   \n",
      "93688.0  ...           0           0           0           0           0   \n",
      "93689.0  ...           0           0           0           0           0   \n",
      "93690.0  ...           0           1           0           0           0   \n",
      "93691.0  ...           0           0           1           0           0   \n",
      "93692.0  ...           0           0           0           0           0   \n",
      "93693.0  ...           0           0           0           0           0   \n",
      "93694.0  ...           0           0           0           0           0   \n",
      "93695.0  ...           0           0           1           0           0   \n",
      "93696.0  ...           0           1           0           0           0   \n",
      "93697.0  ...           0           0           1           0           0   \n",
      "93698.0  ...           0           0           0           0           0   \n",
      "93699.0  ...           0           0           0           0           0   \n",
      "93700.0  ...           0           0           1           0           0   \n",
      "93701.0  ...           0           0           0           0           0   \n",
      "93702.0  ...           0           0           1           0           0   \n",
      "\n",
      "               SLD012  SMQ020#1.0  SMQ020#2.0  SMQ020#7.0  SMQ020#9.0  \n",
      "SEQN                                                                   \n",
      "83732.0 -1.807704e+00           1           0           0           0  \n",
      "83733.0  1.983770e-01           1           0           0           0  \n",
      "83734.0 -6.040554e-01           1           0           0           0  \n",
      "83735.0 -1.005272e+00           0           1           0           0  \n",
      "83736.0 -7.127031e-16           0           1           0           0  \n",
      "83737.0  1.000809e+00           0           1           0           0  \n",
      "83738.0 -7.127031e-16           0           0           0           0  \n",
      "83739.0 -7.127031e-16           0           0           0           0  \n",
      "83740.0 -7.127031e-16           0           0           0           0  \n",
      "83741.0 -1.005272e+00           1           0           0           0  \n",
      "83742.0  1.983770e-01           0           1           0           0  \n",
      "83743.0 -1.005272e+00           0           1           0           0  \n",
      "83744.0 -3.011352e+00           0           1           0           0  \n",
      "83745.0 -7.127031e-16           0           0           0           0  \n",
      "83746.0 -7.127031e-16           0           0           0           0  \n",
      "83747.0  1.803242e+00           1           0           0           0  \n",
      "83748.0 -7.127031e-16           0           0           0           0  \n",
      "83749.0  1.983770e-01           0           0           0           0  \n",
      "83750.0  1.983770e-01           1           0           0           0  \n",
      "83751.0 -6.040554e-01           0           0           0           0  \n",
      "83752.0 -1.005272e+00           1           0           0           0  \n",
      "83753.0 -7.127031e-16           0           0           0           0  \n",
      "83754.0  1.402026e+00           0           1           0           0  \n",
      "83755.0 -6.040554e-01           0           1           0           0  \n",
      "83756.0  1.402026e+00           0           0           0           0  \n",
      "83757.0  1.983770e-01           0           1           0           0  \n",
      "83758.0  1.000809e+00           1           0           0           0  \n",
      "83759.0  5.995932e-01           0           1           0           0  \n",
      "83760.0 -7.127031e-16           0           0           0           0  \n",
      "83761.0 -3.011352e+00           0           1           0           0  \n",
      "...               ...         ...         ...         ...         ...  \n",
      "93673.0 -7.127031e-16           0           0           0           0  \n",
      "93674.0 -7.127031e-16           0           0           0           0  \n",
      "93675.0  1.983770e-01           0           1           0           0  \n",
      "93676.0  1.983770e-01           0           1           0           0  \n",
      "93677.0  1.983770e-01           0           1           0           0  \n",
      "93678.0 -7.127031e-16           0           0           0           0  \n",
      "93679.0  1.000809e+00           1           0           0           0  \n",
      "93680.0 -6.040554e-01           0           0           0           0  \n",
      "93681.0 -7.127031e-16           0           0           0           0  \n",
      "93682.0 -6.040554e-01           0           1           0           0  \n",
      "93683.0 -7.127031e-16           0           0           0           0  \n",
      "93684.0 -2.028392e-01           0           1           0           0  \n",
      "93685.0 -1.406488e+00           1           0           0           0  \n",
      "93686.0 -7.127031e-16           0           0           0           0  \n",
      "93687.0  5.012971e+00           0           0           0           0  \n",
      "93688.0 -7.127031e-16           0           0           0           0  \n",
      "93689.0  1.983770e-01           0           1           0           0  \n",
      "93690.0 -6.040554e-01           0           1           0           0  \n",
      "93691.0  1.983770e-01           0           1           0           0  \n",
      "93692.0 -7.127031e-16           0           0           0           0  \n",
      "93693.0 -7.127031e-16           0           0           0           0  \n",
      "93694.0 -7.127031e-16           0           0           0           0  \n",
      "93695.0  1.402026e+00           1           0           0           0  \n",
      "93696.0  5.995932e-01           0           1           0           0  \n",
      "93697.0  1.803242e+00           1           0           0           0  \n",
      "93698.0 -7.127031e-16           0           0           0           0  \n",
      "93699.0 -7.127031e-16           0           0           0           0  \n",
      "93700.0 -1.406488e+00           1           0           0           0  \n",
      "93701.0 -7.127031e-16           0           0           0           0  \n",
      "93702.0 -2.028392e-01           0           1           0           0  \n",
      "\n",
      "[9971 rows x 194 columns]\n"
     ]
    }
   ],
   "source": [
    "importlib.reload(nhanes)\n",
    "ds = nhanes.Dataset(DATA_PATH)\n",
    "ds.load_arthritis()\n",
    "n_fe = ds.features.shape[1]\n",
    "n_classes = 2\n",
    "\n",
    "indx = np.argwhere(ds.targets != 3)\n",
    "dataset_features = ds.features[indx.flatten()]\n",
    "dataset_targets = ds.targets[indx.flatten()]"
   ]
  },
  {
   "cell_type": "markdown",
   "metadata": {},
   "source": [
    "## Train/Test Separation"
   ]
  },
  {
   "cell_type": "code",
   "execution_count": 26,
   "metadata": {},
   "outputs": [
    {
     "name": "stdout",
     "output_type": "stream",
     "text": [
      "(5719, 128)\n"
     ]
    }
   ],
   "source": [
    "#mutual information part\n",
    "mutualInfo = mutual_info_classif(dataset_features,dataset_targets)\n",
    "dataset_features = dataset_features.T[mutualInfo > 0].T\n",
    "print(dataset_features.shape)\n",
    "perm = np.random.permutation(dataset_targets.shape[0])\n",
    "dataset_features = dataset_features[perm]\n",
    "dataset_targets = dataset_targets[perm]\n",
    "\n",
    "def get_batch(n_size, phase):\n",
    "    # select indices\n",
    "    n_samples = dataset_features.shape[0]\n",
    "    n_classes = int(dataset_targets.max() + 1)\n",
    "    if phase == 'test':\n",
    "        inds_sel = np.arange(0, int(n_samples*0.15), 1)\n",
    "    elif phase == 'validation':\n",
    "        n_samples = dataset_features.shape[0]\n",
    "        inds_sel = np.arange(int(n_samples*0.15), int(n_samples*0.30), 1)\n",
    "    elif phase == 'train':\n",
    "        n_samples = dataset_features.shape[0]\n",
    "        inds_sel = np.arange(int(n_samples*0.30), n_samples, 1)\n",
    "    else:\n",
    "        raise NotImplementedError\n",
    "    inds_sel = np.random.permutation(inds_sel)\n",
    "    batch_inds = []\n",
    "    for cl in range(n_classes):\n",
    "        inds_cl = inds_sel[dataset_targets[inds_sel] == cl]\n",
    "        batch_inds.extend(inds_cl[:n_size//n_classes])\n",
    "    batch_inds = np.random.permutation(batch_inds)\n",
    "    \n",
    "    return dataset_features[batch_inds], dataset_targets[batch_inds]\n",
    "    \n",
    "features_trn, targets_trn = get_batch(n_size=5000, phase='train')\n",
    "features_tst, targets_tst = get_batch(n_size=1000, phase='test')"
   ]
  },
  {
   "cell_type": "markdown",
   "metadata": {},
   "source": [
    "## Classification"
   ]
  },
  {
   "cell_type": "code",
   "execution_count": null,
   "metadata": {},
   "outputs": [],
   "source": [
    "def plot_confusion_matrix(y_true, y_pred, classes,\n",
    "                          normalize=False,\n",
    "                          title=None,\n",
    "                          cmap=plt.cm.Blues):\n",
    "    \"\"\"\n",
    "    This function prints and plots the confusion matrix.\n",
    "    Normalization can be applied by setting normalize=True.\n",
    "    \"\"\"\n",
    "    if not title:\n",
    "        if normalize:\n",
    "            title = 'Normalized confusion matrix'\n",
    "        else:\n",
    "            title = 'Confusion matrix, without normalization'\n",
    "\n",
    "    # Compute confusion matrix\n",
    "    cm = confusion_matrix(y_true, y_pred)\n",
    "    # Only use the labels that appear in the data\n",
    "    if normalize:\n",
    "        cm = cm.astype('float') / cm.sum(axis=1)[:, np.newaxis]\n",
    "        print(\"Normalized confusion matrix\")\n",
    "    else:\n",
    "        print('Confusion matrix, without normalization')\n",
    "\n",
    "    print(cm)\n",
    "\n",
    "    fig, ax = plt.subplots()\n",
    "    im = ax.imshow(cm, interpolation='nearest', cmap=cmap)\n",
    "    ax.figure.colorbar(im, ax=ax)\n",
    "    # We want to show all ticks...\n",
    "    ax.set(xticks=np.arange(cm.shape[1]),\n",
    "           yticks=np.arange(cm.shape[0]),\n",
    "           # ... and label them with the respective list entries\n",
    "           xticklabels=classes, yticklabels=classes,\n",
    "           title=title,\n",
    "           ylabel='True label',\n",
    "           xlabel='Predicted label')\n",
    "\n",
    "    # Rotate the tick labels and set their alignment.\n",
    "    plt.setp(ax.get_xticklabels(), rotation=45, ha=\"right\",\n",
    "             rotation_mode=\"anchor\")\n",
    "\n",
    "    # Loop over data dimensions and create text annotations.\n",
    "    fmt = '.2f' if normalize else 'd'\n",
    "    thresh = cm.max() / 2.\n",
    "    for i in range(cm.shape[0]):\n",
    "        for j in range(cm.shape[1]):\n",
    "            ax.text(j, i, format(cm[i, j], fmt),\n",
    "                    ha=\"center\", va=\"center\",\n",
    "                    color=\"white\" if cm[i, j] > thresh else \"black\")\n",
    "    fig.tight_layout()\n",
    "    return ax"
   ]
  },
  {
   "cell_type": "markdown",
   "metadata": {},
   "source": [
    "## Feature Selection using Univariate selection"
   ]
  },
  {
   "cell_type": "code",
   "execution_count": 39,
   "metadata": {},
   "outputs": [
    {
     "ename": "ValueError",
     "evalue": "Input X must be non-negative.",
     "output_type": "error",
     "traceback": [
      "\u001b[0;31m---------------------------------------------------------------------------\u001b[0m",
      "\u001b[0;31mValueError\u001b[0m                                Traceback (most recent call last)",
      "\u001b[0;32m<ipython-input-39-e7469ebe0420>\u001b[0m in \u001b[0;36m<module>\u001b[0;34m\u001b[0m\n\u001b[1;32m      7\u001b[0m \u001b[0;31m#Fit the function for ranking the features by score\u001b[0m\u001b[0;34m\u001b[0m\u001b[0;34m\u001b[0m\u001b[0;34m\u001b[0m\u001b[0m\n\u001b[1;32m      8\u001b[0m \u001b[0;34m\u001b[0m\u001b[0m\n\u001b[0;32m----> 9\u001b[0;31m \u001b[0mfit\u001b[0m \u001b[0;34m=\u001b[0m \u001b[0mtest\u001b[0m\u001b[0;34m.\u001b[0m\u001b[0mfit\u001b[0m\u001b[0;34m(\u001b[0m\u001b[0mfeatures_trn\u001b[0m\u001b[0;34m,\u001b[0m \u001b[0mtargets_trn\u001b[0m\u001b[0;34m)\u001b[0m\u001b[0;34m\u001b[0m\u001b[0;34m\u001b[0m\u001b[0m\n\u001b[0m\u001b[1;32m     10\u001b[0m \u001b[0;34m\u001b[0m\u001b[0m\n\u001b[1;32m     11\u001b[0m \u001b[0;31m#Summarize scores numpy.set_printoptions(precision=3) print(fit.scores_)\u001b[0m\u001b[0;34m\u001b[0m\u001b[0;34m\u001b[0m\u001b[0;34m\u001b[0m\u001b[0m\n",
      "\u001b[0;32m~/anaconda3/envs/py37/lib/python3.7/site-packages/sklearn/feature_selection/univariate_selection.py\u001b[0m in \u001b[0;36mfit\u001b[0;34m(self, X, y)\u001b[0m\n\u001b[1;32m    347\u001b[0m \u001b[0;34m\u001b[0m\u001b[0m\n\u001b[1;32m    348\u001b[0m         \u001b[0mself\u001b[0m\u001b[0;34m.\u001b[0m\u001b[0m_check_params\u001b[0m\u001b[0;34m(\u001b[0m\u001b[0mX\u001b[0m\u001b[0;34m,\u001b[0m \u001b[0my\u001b[0m\u001b[0;34m)\u001b[0m\u001b[0;34m\u001b[0m\u001b[0;34m\u001b[0m\u001b[0m\n\u001b[0;32m--> 349\u001b[0;31m         \u001b[0mscore_func_ret\u001b[0m \u001b[0;34m=\u001b[0m \u001b[0mself\u001b[0m\u001b[0;34m.\u001b[0m\u001b[0mscore_func\u001b[0m\u001b[0;34m(\u001b[0m\u001b[0mX\u001b[0m\u001b[0;34m,\u001b[0m \u001b[0my\u001b[0m\u001b[0;34m)\u001b[0m\u001b[0;34m\u001b[0m\u001b[0;34m\u001b[0m\u001b[0m\n\u001b[0m\u001b[1;32m    350\u001b[0m         \u001b[0;32mif\u001b[0m \u001b[0misinstance\u001b[0m\u001b[0;34m(\u001b[0m\u001b[0mscore_func_ret\u001b[0m\u001b[0;34m,\u001b[0m \u001b[0;34m(\u001b[0m\u001b[0mlist\u001b[0m\u001b[0;34m,\u001b[0m \u001b[0mtuple\u001b[0m\u001b[0;34m)\u001b[0m\u001b[0;34m)\u001b[0m\u001b[0;34m:\u001b[0m\u001b[0;34m\u001b[0m\u001b[0;34m\u001b[0m\u001b[0m\n\u001b[1;32m    351\u001b[0m             \u001b[0mself\u001b[0m\u001b[0;34m.\u001b[0m\u001b[0mscores_\u001b[0m\u001b[0;34m,\u001b[0m \u001b[0mself\u001b[0m\u001b[0;34m.\u001b[0m\u001b[0mpvalues_\u001b[0m \u001b[0;34m=\u001b[0m \u001b[0mscore_func_ret\u001b[0m\u001b[0;34m\u001b[0m\u001b[0;34m\u001b[0m\u001b[0m\n",
      "\u001b[0;32m~/anaconda3/envs/py37/lib/python3.7/site-packages/sklearn/feature_selection/univariate_selection.py\u001b[0m in \u001b[0;36mchi2\u001b[0;34m(X, y)\u001b[0m\n\u001b[1;32m    214\u001b[0m     \u001b[0mX\u001b[0m \u001b[0;34m=\u001b[0m \u001b[0mcheck_array\u001b[0m\u001b[0;34m(\u001b[0m\u001b[0mX\u001b[0m\u001b[0;34m,\u001b[0m \u001b[0maccept_sparse\u001b[0m\u001b[0;34m=\u001b[0m\u001b[0;34m'csr'\u001b[0m\u001b[0;34m)\u001b[0m\u001b[0;34m\u001b[0m\u001b[0;34m\u001b[0m\u001b[0m\n\u001b[1;32m    215\u001b[0m     \u001b[0;32mif\u001b[0m \u001b[0mnp\u001b[0m\u001b[0;34m.\u001b[0m\u001b[0many\u001b[0m\u001b[0;34m(\u001b[0m\u001b[0;34m(\u001b[0m\u001b[0mX\u001b[0m\u001b[0;34m.\u001b[0m\u001b[0mdata\u001b[0m \u001b[0;32mif\u001b[0m \u001b[0missparse\u001b[0m\u001b[0;34m(\u001b[0m\u001b[0mX\u001b[0m\u001b[0;34m)\u001b[0m \u001b[0;32melse\u001b[0m \u001b[0mX\u001b[0m\u001b[0;34m)\u001b[0m \u001b[0;34m<\u001b[0m \u001b[0;36m0\u001b[0m\u001b[0;34m)\u001b[0m\u001b[0;34m:\u001b[0m\u001b[0;34m\u001b[0m\u001b[0;34m\u001b[0m\u001b[0m\n\u001b[0;32m--> 216\u001b[0;31m         \u001b[0;32mraise\u001b[0m \u001b[0mValueError\u001b[0m\u001b[0;34m(\u001b[0m\u001b[0;34m\"Input X must be non-negative.\"\u001b[0m\u001b[0;34m)\u001b[0m\u001b[0;34m\u001b[0m\u001b[0;34m\u001b[0m\u001b[0m\n\u001b[0m\u001b[1;32m    217\u001b[0m \u001b[0;34m\u001b[0m\u001b[0m\n\u001b[1;32m    218\u001b[0m     \u001b[0mY\u001b[0m \u001b[0;34m=\u001b[0m \u001b[0mLabelBinarizer\u001b[0m\u001b[0;34m(\u001b[0m\u001b[0;34m)\u001b[0m\u001b[0;34m.\u001b[0m\u001b[0mfit_transform\u001b[0m\u001b[0;34m(\u001b[0m\u001b[0my\u001b[0m\u001b[0;34m)\u001b[0m\u001b[0;34m\u001b[0m\u001b[0;34m\u001b[0m\u001b[0m\n",
      "\u001b[0;31mValueError\u001b[0m: Input X must be non-negative."
     ]
    }
   ],
   "source": [
    "from sklearn.feature_selection import SelectKBest\n",
    "from sklearn.feature_selection import chi2\n",
    "#We will select the features using chi square\n",
    "\n",
    "test = SelectKBest(score_func=chi2, k=4)\n",
    "\n",
    "#Fit the function for ranking the features by score\n",
    "\n",
    "fit = test.fit(features_trn, targets_trn)\n",
    "\n",
    "#Summarize scores numpy.set_printoptions(precision=3) print(fit.scores_)\n",
    "\n",
    "#Apply the transformation on to dataset\n",
    "\n",
    "features = fit.transform(features_trn)\n",
    "\n",
    "print(features)"
   ]
  },
  {
   "cell_type": "markdown",
   "metadata": {},
   "source": [
    "## Feature Selection using Univariate selection"
   ]
  },
  {
   "cell_type": "code",
   "execution_count": 42,
   "metadata": {},
   "outputs": [
    {
     "name": "stdout",
     "output_type": "stream",
     "text": [
      "accu_tst_RFC 0.8202054794520548\n"
     ]
    }
   ],
   "source": [
    "from sklearn.neural_network import MLPClassifier\n",
    "clf = MLPClassifier(solver='lbfgs', alpha=1e-5,hidden_layer_sizes=(5, 2), random_state=1)\n",
    "clf.fit(features_trn, targets_trn)\n",
    "preds_tst = clf.predict(features_tst)\n",
    "accu = np.mean(preds_tst==targets_tst)\n",
    "print('accu_tst_RFC', accu)"
   ]
  },
  {
   "cell_type": "code",
   "execution_count": 14,
   "metadata": {},
   "outputs": [
    {
     "name": "stdout",
     "output_type": "stream",
     "text": [
      "accu_tst_RFC 0.8478632478632478\n",
      "[1.24205381e-03 3.00955770e-03 4.45797429e-05 2.69106218e-04\n",
      " 2.59519290e-03 0.00000000e+00 5.72851833e-05 2.35103675e-03\n",
      " 1.55671937e-05 2.29211361e-03 2.90811316e-03 3.81827451e-04\n",
      " 3.52092930e-04 2.64622670e-03 1.79903327e-02 1.75812637e-02\n",
      " 8.69919644e-03 1.97833889e-02 2.01185006e-02 1.76840010e-02\n",
      " 1.68500075e-02 2.04642495e-02 1.37965002e-02 1.37962771e-02\n",
      " 1.64820067e-02 7.81077408e-03 1.65379380e-02 1.24779074e-02\n",
      " 4.74886427e-05 1.78319136e-02 2.00421326e-02 1.98782212e-02\n",
      " 2.05880640e-02 1.79879344e-03 6.51010978e-04 2.09148792e-02\n",
      " 1.57307544e-02 1.32758651e-03 2.56925757e-03 1.06238321e-03\n",
      " 3.94372093e-04 2.19637806e-03 7.58015206e-05 2.57465228e-03\n",
      " 6.56583448e-04 6.60769618e-02 1.73135547e-02 2.60238507e-03\n",
      " 3.65558110e-03 2.55452580e-03 1.09717447e-03 0.00000000e+00\n",
      " 5.07094013e-03 4.64744075e-03 0.00000000e+00 3.01397853e-03\n",
      " 2.21761531e-03 0.00000000e+00 0.00000000e+00 7.16742034e-03\n",
      " 0.00000000e+00 9.83796257e-03 1.55326098e-03 1.56422490e-03\n",
      " 2.41428718e-03 1.39707013e-03 1.93860491e-02 3.85392818e-03\n",
      " 2.19125093e-02 1.12523030e-02 1.33171186e-02 1.76636936e-02\n",
      " 2.84219331e-03 2.81704829e-03 0.00000000e+00 2.17661884e-03\n",
      " 2.90106508e-03 1.25508720e-05 4.63116410e-05 9.85935497e-03\n",
      " 5.97246561e-03 1.67993299e-03 2.78671295e-03 0.00000000e+00\n",
      " 3.21468855e-05 3.92814413e-03 9.73271766e-03 5.98817675e-03\n",
      " 2.56600713e-03 0.00000000e+00 1.69536248e-04 1.79215208e-03\n",
      " 1.22051127e-03 0.00000000e+00 3.34855329e-05 2.08089029e-04\n",
      " 0.00000000e+00 1.34429552e-02 1.77638210e-02 2.68367851e-03\n",
      " 3.12942351e-03 0.00000000e+00 1.04175105e-03 1.13314505e-03\n",
      " 1.48196487e-03 6.19392709e-04 1.87014615e-03 7.02069324e-06\n",
      " 0.00000000e+00 5.21400293e-04 2.18995101e-02 4.08949466e-03\n",
      " 6.51775700e-04 1.57112302e-03 0.00000000e+00 1.20814637e-03\n",
      " 1.49188741e-03 0.00000000e+00 5.85275659e-03 2.24297412e-03\n",
      " 1.66565023e-03 4.59333925e-03 3.26284131e-03 0.00000000e+00\n",
      " 4.17068796e-03 2.21748132e-03 1.94060180e-05 2.59197104e-04\n",
      " 1.36953439e-02 3.33311336e-03 5.71333776e-04 0.00000000e+00\n",
      " 6.35195313e-03 1.10593357e-03 6.32781856e-03 3.37782222e-03\n",
      " 6.27362399e-04 3.91529423e-03 2.64378780e-03 6.89841536e-04\n",
      " 4.92663119e-03 1.84110454e-03 3.29908095e-05 6.56843281e-03\n",
      " 4.46482895e-03 0.00000000e+00 5.37266404e-05 1.51813193e-03\n",
      " 8.47459584e-04 4.24153086e-05 1.50648952e-03 3.23765762e-03\n",
      " 1.23553831e-04 9.36861463e-03 3.88165261e-03 2.41405742e-04\n",
      " 1.70766198e-02 8.39246429e-03 2.54058135e-03 3.56148344e-03\n",
      " 0.00000000e+00 0.00000000e+00 1.30033486e-03 2.49058185e-03\n",
      " 0.00000000e+00 2.23278808e-04 2.65388466e-03 2.90023448e-03\n",
      " 3.23138177e-05 1.91620577e-03 1.85648062e-02 1.48425646e-02\n",
      " 1.64212585e-02 4.47847424e-03 1.20109969e-02 1.65575520e-02\n",
      " 2.85258817e-03 6.41911804e-03 2.17470407e-03 3.73329344e-03\n",
      " 6.80061044e-05 2.55652537e-03 3.37536428e-03 1.63723652e-04\n",
      " 2.75102955e-03 2.27780802e-03 0.00000000e+00 8.70179069e-04\n",
      " 1.58160444e-02 4.42698131e-03 3.40855175e-03 0.00000000e+00\n",
      " 4.42005942e-05]\n",
      "193\n",
      "Confusion matrix, without normalization\n",
      "[[  4  81]\n",
      " [  8 492]]\n",
      "accu_tst_SVC 0.7418803418803419\n",
      "Confusion matrix, without normalization\n",
      "[[ 65  20]\n",
      " [131 369]]\n",
      "accu_tst_LR 0.7435897435897436\n",
      "Confusion matrix, without normalization\n",
      "[[ 67  18]\n",
      " [132 368]]\n"
     ]
    },
    {
     "name": "stderr",
     "output_type": "stream",
     "text": [
      "/Users/qiwenlyu/anaconda3/envs/py37/lib/python3.7/site-packages/sklearn/linear_model/logistic.py:947: ConvergenceWarning: lbfgs failed to converge. Increase the number of iterations.\n",
      "  \"of iterations.\", ConvergenceWarning)\n"
     ]
    },
    {
     "data": {
      "text/plain": [
       "<matplotlib.axes._subplots.AxesSubplot at 0x1a25b9cf28>"
      ]
     },
     "execution_count": 14,
     "metadata": {},
     "output_type": "execute_result"
    },
    {
     "data": {
      "image/png": "[encoded data removed]",
      "text/plain": [
       "<Figure size 432x288 with 2 Axes>"
      ]
     },
     "metadata": {
      "needs_background": "light"
     },
     "output_type": "display_data"
    },
    {
     "data": {
      "image/png": "[encoded data removed]",
      "text/plain": [
       "<Figure size 432x288 with 2 Axes>"
      ]
     },
     "metadata": {
      "needs_background": "light"
     },
     "output_type": "display_data"
    },
    {
     "data": {
      "image/png": "[encoded data removed]",
      "text/plain": [
       "<Figure size 432x288 with 2 Axes>"
      ]
     },
     "metadata": {
      "needs_background": "light"
     },
     "output_type": "display_data"
    }
   ],
   "source": [
    "from sklearn.metrics import confusion_matrix\n",
    "clf = RandomForestClassifier(n_estimators=100,class_weight='balanced')\n",
    "clf.fit(features_trn, targets_trn)\n",
    "preds_tst = clf.predict(features_tst)\n",
    "accu = np.mean(preds_tst==targets_tst)\n",
    "print('accu_tst_RFC', accu)\n",
    "# Print the name and gini importance of each feature\n",
    "print(clf.feature_importances_)\n",
    "print(len(clf.feature_importances_))\n",
    "#cm = confusion_matrix(targets_tst, preds_tst)\n",
    "plot_confusion_matrix(targets_tst,preds_tst,classes=['Yes Arthritis', 'No Arthritis'],title='Random Forest Classifier')\n",
    "#print(cm)\n",
    "\n",
    "clf = SVC(gamma='auto',class_weight='balanced')\n",
    "clf.fit(features_trn, targets_trn)\n",
    "preds_tst = clf.predict(features_tst)\n",
    "accu = np.mean(preds_tst==targets_tst)\n",
    "print('accu_tst_SVC', accu)\n",
    "#cm = confusion_matrix(targets_tst, preds_tst)\n",
    "plot_confusion_matrix(targets_tst,preds_tst,classes=['Yes Arthritis', 'No Arthritis'],title='Random Forest Classifier')\n",
    "#print(cm)\n",
    "\n",
    "clf = LogisticRegression(solver='lbfgs', max_iter=200,class_weight='balanced')\n",
    "clf.fit(features_trn, targets_trn)\n",
    "preds_tst = clf.predict(features_tst)\n",
    "accu = np.mean(preds_tst==targets_tst)\n",
    "print('accu_tst_LR', accu)\n",
    "#cm = confusion_matrix(targets_tst, preds_tst)\n",
    "plot_confusion_matrix(targets_tst,preds_tst,classes=['Yes Arthritis', 'No Arthritis'],title='Random Forest Classifier')\n",
    "#print(cm)\n",
    "\n"
   ]
  },
  {
   "cell_type": "code",
   "execution_count": 28,
   "metadata": {},
   "outputs": [
    {
     "ename": "ValueError",
     "evalue": "Found input variables with inconsistent numbers of samples: [584, 585]",
     "output_type": "error",
     "traceback": [
      "\u001b[0;31m---------------------------------------------------------------------------\u001b[0m",
      "\u001b[0;31mValueError\u001b[0m                                Traceback (most recent call last)",
      "\u001b[0;32m<ipython-input-28-8e7ab687e71d>\u001b[0m in \u001b[0;36m<module>\u001b[0;34m\u001b[0m\n\u001b[0;32m----> 1\u001b[0;31m \u001b[0mprint\u001b[0m\u001b[0;34m(\u001b[0m\u001b[0mclassification_report\u001b[0m\u001b[0;34m(\u001b[0m\u001b[0mtargets_tst\u001b[0m\u001b[0;34m,\u001b[0m \u001b[0mpreds_tst\u001b[0m\u001b[0;34m)\u001b[0m\u001b[0;34m)\u001b[0m\u001b[0;34m\u001b[0m\u001b[0;34m\u001b[0m\u001b[0m\n\u001b[0m",
      "\u001b[0;32m~/anaconda3/envs/py37/lib/python3.7/site-packages/sklearn/metrics/classification.py\u001b[0m in \u001b[0;36mclassification_report\u001b[0;34m(y_true, y_pred, labels, target_names, sample_weight, digits, output_dict)\u001b[0m\n\u001b[1;32m   1850\u001b[0m     \"\"\"\n\u001b[1;32m   1851\u001b[0m \u001b[0;34m\u001b[0m\u001b[0m\n\u001b[0;32m-> 1852\u001b[0;31m     \u001b[0my_type\u001b[0m\u001b[0;34m,\u001b[0m \u001b[0my_true\u001b[0m\u001b[0;34m,\u001b[0m \u001b[0my_pred\u001b[0m \u001b[0;34m=\u001b[0m \u001b[0m_check_targets\u001b[0m\u001b[0;34m(\u001b[0m\u001b[0my_true\u001b[0m\u001b[0;34m,\u001b[0m \u001b[0my_pred\u001b[0m\u001b[0;34m)\u001b[0m\u001b[0;34m\u001b[0m\u001b[0;34m\u001b[0m\u001b[0m\n\u001b[0m\u001b[1;32m   1853\u001b[0m \u001b[0;34m\u001b[0m\u001b[0m\n\u001b[1;32m   1854\u001b[0m     \u001b[0mlabels_given\u001b[0m \u001b[0;34m=\u001b[0m \u001b[0;32mTrue\u001b[0m\u001b[0;34m\u001b[0m\u001b[0;34m\u001b[0m\u001b[0m\n",
      "\u001b[0;32m~/anaconda3/envs/py37/lib/python3.7/site-packages/sklearn/metrics/classification.py\u001b[0m in \u001b[0;36m_check_targets\u001b[0;34m(y_true, y_pred)\u001b[0m\n\u001b[1;32m     69\u001b[0m     \u001b[0my_pred\u001b[0m \u001b[0;34m:\u001b[0m \u001b[0marray\u001b[0m \u001b[0;32mor\u001b[0m \u001b[0mindicator\u001b[0m \u001b[0mmatrix\u001b[0m\u001b[0;34m\u001b[0m\u001b[0;34m\u001b[0m\u001b[0m\n\u001b[1;32m     70\u001b[0m     \"\"\"\n\u001b[0;32m---> 71\u001b[0;31m     \u001b[0mcheck_consistent_length\u001b[0m\u001b[0;34m(\u001b[0m\u001b[0my_true\u001b[0m\u001b[0;34m,\u001b[0m \u001b[0my_pred\u001b[0m\u001b[0;34m)\u001b[0m\u001b[0;34m\u001b[0m\u001b[0;34m\u001b[0m\u001b[0m\n\u001b[0m\u001b[1;32m     72\u001b[0m     \u001b[0mtype_true\u001b[0m \u001b[0;34m=\u001b[0m \u001b[0mtype_of_target\u001b[0m\u001b[0;34m(\u001b[0m\u001b[0my_true\u001b[0m\u001b[0;34m)\u001b[0m\u001b[0;34m\u001b[0m\u001b[0;34m\u001b[0m\u001b[0m\n\u001b[1;32m     73\u001b[0m     \u001b[0mtype_pred\u001b[0m \u001b[0;34m=\u001b[0m \u001b[0mtype_of_target\u001b[0m\u001b[0;34m(\u001b[0m\u001b[0my_pred\u001b[0m\u001b[0;34m)\u001b[0m\u001b[0;34m\u001b[0m\u001b[0;34m\u001b[0m\u001b[0m\n",
      "\u001b[0;32m~/anaconda3/envs/py37/lib/python3.7/site-packages/sklearn/utils/validation.py\u001b[0m in \u001b[0;36mcheck_consistent_length\u001b[0;34m(*arrays)\u001b[0m\n\u001b[1;32m    203\u001b[0m     \u001b[0;32mif\u001b[0m \u001b[0mlen\u001b[0m\u001b[0;34m(\u001b[0m\u001b[0muniques\u001b[0m\u001b[0;34m)\u001b[0m \u001b[0;34m>\u001b[0m \u001b[0;36m1\u001b[0m\u001b[0;34m:\u001b[0m\u001b[0;34m\u001b[0m\u001b[0;34m\u001b[0m\u001b[0m\n\u001b[1;32m    204\u001b[0m         raise ValueError(\"Found input variables with inconsistent numbers of\"\n\u001b[0;32m--> 205\u001b[0;31m                          \" samples: %r\" % [int(l) for l in lengths])\n\u001b[0m\u001b[1;32m    206\u001b[0m \u001b[0;34m\u001b[0m\u001b[0m\n\u001b[1;32m    207\u001b[0m \u001b[0;34m\u001b[0m\u001b[0m\n",
      "\u001b[0;31mValueError\u001b[0m: Found input variables with inconsistent numbers of samples: [584, 585]"
     ]
    }
   ],
   "source": [
    "print(classification_report(targets_tst, preds_tst))"
   ]
  },
  {
   "cell_type": "code",
   "execution_count": null,
   "metadata": {},
   "outputs": [],
   "source": [
    "\n"
   ]
  }
 ],
 "metadata": {
  "kernelspec": {
   "display_name": "Python 3",
   "language": "python",
   "name": "python3"
  },
  "language_info": {
   "codemirror_mode": {
    "name": "ipython",
    "version": 3
   },
   "file_extension": ".py",
   "mimetype": "text/x-python",
   "name": "python",
   "nbconvert_exporter": "python",
   "pygments_lexer": "ipython3",
   "version": "3.7.3"
  }
 },
 "nbformat": 4,
 "nbformat_minor": 2
}
